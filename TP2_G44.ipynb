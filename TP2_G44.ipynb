{
 "cells": [
  {
   "cell_type": "markdown",
   "metadata": {},
   "source": [
    "# Natural Language Processing: Detecting Humor\n",
    "## TP2 - IART - G44\n",
    "- [Afonso Caiado, up201806789](https://sigarra.up.pt/feup/pt/fest_geral.cursos_list?pv_num_unico=201806789)\n",
    "- [Diogo Nunes, up201808546](https://sigarra.up.pt/feup/pt/fest_geral.cursos_list?pv_num_unico=201808546)\n",
    "- [João Pinto, up201806667](https://sigarra.up.pt/feup/pt/fest_geral.cursos_list?pv_num_unico=201806667)"
   ]
  },
  {
   "cell_type": "markdown",
   "metadata": {},
   "source": [
    "**It is recommended to [view this notebook in nbviewer](http://nbviewer.ipython.org/github/rhiever/Data-Analysis-and-Machine-Learning-Projects/blob/master/example-data-science-notebook/Example%20Machine%20Learning%20Notebook.ipynb) for the best viewing experience.**\n",
    "\n",
    "**You can also [execute the code in this notebook on Binder](https://mybinder.org/v2/gh/rhiever/Data-Analysis-and-Machine-Learning-Projects/master?filepath=example-data-science-notebook%2FExample%20Machine%20Learning%20Notebook.ipynb) - no local installation required.**"
   ]
  },
  {
   "cell_type": "markdown",
   "metadata": {},
   "source": [
    "## Table of contents\n",
    "\n",
    "1. [Introduction](#Introduction)\n",
    "2. [Required libraries](#Required-libraries)\n",
    "3. [Checking the data](#Checking-the-data)\n",
    "4. [Preprocessing the data](#Preprocessing-the-data)\n",
    "    - [Porter Stemming](#Porter-Stemming)\n",
    "    - [Snowball Stemming](#Snowball-Stemming)\n",
    "    - [Lancaster Stemming](#Lancaster-Stemming)\n",
    "    - [Lemmatization](#Lemmatization)\n",
    "    - [Bag of words Model](#Bag-of-words-Model)\n",
    "    - [Stemming or Lemmatization?](#Stemming-or-Lemmatization?)\n",
    "5. [Machine learning algorithms](#Machine-learning-algorithms)\n",
    "6. [Running the algorithms](#Running-the-algoritms)\n",
    "7. [Conclusions](#Conclusions)\n",
    "8. [References](#References)"
   ]
  },
  {
   "cell_type": "markdown",
   "metadata": {},
   "source": [
    "## Introduction\n",
    "\n",
    "[[ go back to the top ]](#Table-of-contents)\n",
    "\n",
    "Humor poses interesting linguistic challenges to NLP, due to its emphasis on multiple word senses, cultural knowledge, and pragmatic competence. Humor appreciation is also a highly subjective phenomenon, and each person can have a different perception of a joke. \n",
    "\n",
    "- Is the intention of the text do be humorous? (0 or 1). The first task, is a binary one. We simply have to predict if the text is considered humorous.  \n",
    "- (If it is intended to be humorous) How humorous do you find it? (1 to 5). In this step, by emulating previous humor detection tasks with ratings and classification scores, we have to predict how humorous the text actually is (if it is humorous)."
   ]
  },
  {
   "cell_type": "markdown",
   "metadata": {},
   "source": [
    "## Required libraries and imports\n",
    "\n",
    "[[ go back to the top ]](#Table-of-contents)\n",
    "\n",
    "If you don't have Python on your computer, you can use the [Anaconda Python distribution](http://continuum.io/downloads) to install most of the Python packages you need. Anaconda provides a simple double-click installer for your convenience.\n",
    "\n",
    "This notebook uses several Python packages that come standard with the Anaconda Python distribution. The primary libraries that we'll be using are:\n",
    "\n",
    "* **NumPy**: Provides a fast numerical array structure and helper functions.\n",
    "* **pandas**: Provides a DataFrame structure to store data in memory and work with it easily and efficiently.\n",
    "* **scikit-learn**: The essential Machine Learning package in Python.\n",
    "* **matplotlib**: Basic plotting library in Python; most other Python plotting libraries are built on top of it.\n",
    "* **Seaborn**: Advanced statistical plotting library.\n",
    "\n",
    "To make sure you have all of the packages you need, install them with `conda`:\n",
    "\n",
    "    conda install numpy pandas scikit-learn matplotlib seaborn\n",
    "    \n",
    "    conda install -c conda-forge watermark\n",
    "\n",
    "`conda` may ask you to update some of them if you don't have the most recent version. Allow it to do so.\n",
    "\n",
    "**Note:** We will not be providing support for people trying to run this notebook outside of the Anaconda Python distribution."
   ]
  },
  {
   "cell_type": "code",
   "execution_count": null,
   "metadata": {},
   "outputs": [],
   "source": [
    "import time\n",
    "import pandas as pd\n",
    "import seaborn as sb\n",
    "import re\n",
    "import nltk\n",
    "import numpy as np\n",
    "\n",
    "from nltk.stem.porter import PorterStemmer\n",
    "from nltk.stem import LancasterStemmer\n",
    "from nltk.stem.snowball import SnowballStemmer\n",
    "from nltk.stem import WordNetLemmatizer\n",
    "from nltk.corpus import stopwords\n",
    "\n",
    "from sklearn.model_selection import train_test_split\n",
    "from sklearn.feature_extraction.text import CountVectorizer\n",
    "from sklearn.naive_bayes import GaussianNB\n",
    "from sklearn.naive_bayes import MultinomialNB\n",
    "from sklearn.svm import SVC\n",
    "from sklearn.svm import SVR\n",
    "from sklearn.tree import DecisionTreeClassifier\n",
    "from sklearn.tree import DecisionTreeRegressor\n",
    "from sklearn import tree\n",
    "\n",
    "from sklearn.metrics import confusion_matrix\n",
    "from sklearn.metrics import accuracy_score\n",
    "from sklearn.metrics import precision_score\n",
    "from sklearn.metrics import recall_score\n",
    "from sklearn.metrics import f1_score\n",
    "\n",
    "from sklearn.metrics import mean_squared_error"
   ]
  },
  {
   "cell_type": "markdown",
   "metadata": {},
   "source": [
    "## Checking the data\n",
    "\n",
    "[[ go back to the top ]](#Table-of-contents)\n",
    "\n",
    "In this section, we will import the dataset needed, check and analyse their content."
   ]
  },
  {
   "cell_type": "code",
   "execution_count": null,
   "metadata": {},
   "outputs": [],
   "source": [
    "fields = ['id', 'text', 'is_humor', 'humor_rating']\n",
    "# for this project, we don't need 'humor_controversy' and 'offense_rating'\n",
    "\n",
    "# Importing the datasets\n",
    "train = pd.read_csv('datasets/train.csv', usecols=fields, na_values=['NaN'])\n",
    "train['humor_rating'] = train['humor_rating'].fillna(0)\n",
    "trainC = pd.DataFrame(train, columns=['id', 'text', 'is_humor'])\n",
    "trainR = pd.DataFrame(train, columns=['id', 'text', 'humor_rating'])\n",
    "#trainR['humor_rating'] = trainR['humor_rating'].astype(int)"
   ]
  },
  {
   "cell_type": "code",
   "execution_count": 95,
   "metadata": {},
   "outputs": [
    {
     "data": {
      "text/html": [
       "<div>\n",
       "<style scoped>\n",
       "    .dataframe tbody tr th:only-of-type {\n",
       "        vertical-align: middle;\n",
       "    }\n",
       "\n",
       "    .dataframe tbody tr th {\n",
       "        vertical-align: top;\n",
       "    }\n",
       "\n",
       "    .dataframe thead th {\n",
       "        text-align: right;\n",
       "    }\n",
       "</style>\n",
       "<table border=\"1\" class=\"dataframe\">\n",
       "  <thead>\n",
       "    <tr style=\"text-align: right;\">\n",
       "      <th></th>\n",
       "      <th>id</th>\n",
       "      <th>text</th>\n",
       "      <th>is_humor</th>\n",
       "      <th>humor_rating</th>\n",
       "    </tr>\n",
       "  </thead>\n",
       "  <tbody>\n",
       "    <tr>\n",
       "      <th>0</th>\n",
       "      <td>1</td>\n",
       "      <td>TENNESSEE: We're the best state. Nobody even c...</td>\n",
       "      <td>1</td>\n",
       "      <td>2.42</td>\n",
       "    </tr>\n",
       "    <tr>\n",
       "      <th>1</th>\n",
       "      <td>2</td>\n",
       "      <td>A man inserted an advertisement in the classif...</td>\n",
       "      <td>1</td>\n",
       "      <td>2.50</td>\n",
       "    </tr>\n",
       "    <tr>\n",
       "      <th>2</th>\n",
       "      <td>3</td>\n",
       "      <td>How many men does it take to open a can of bee...</td>\n",
       "      <td>1</td>\n",
       "      <td>1.95</td>\n",
       "    </tr>\n",
       "    <tr>\n",
       "      <th>3</th>\n",
       "      <td>4</td>\n",
       "      <td>Told my mom I hit 1200 Twitter followers. She ...</td>\n",
       "      <td>1</td>\n",
       "      <td>2.11</td>\n",
       "    </tr>\n",
       "    <tr>\n",
       "      <th>4</th>\n",
       "      <td>5</td>\n",
       "      <td>Roses are dead. Love is fake. Weddings are bas...</td>\n",
       "      <td>1</td>\n",
       "      <td>2.78</td>\n",
       "    </tr>\n",
       "  </tbody>\n",
       "</table>\n",
       "</div>"
      ],
      "text/plain": [
       "   id                                               text  is_humor  \\\n",
       "0   1  TENNESSEE: We're the best state. Nobody even c...         1   \n",
       "1   2  A man inserted an advertisement in the classif...         1   \n",
       "2   3  How many men does it take to open a can of bee...         1   \n",
       "3   4  Told my mom I hit 1200 Twitter followers. She ...         1   \n",
       "4   5  Roses are dead. Love is fake. Weddings are bas...         1   \n",
       "\n",
       "   humor_rating  \n",
       "0          2.42  \n",
       "1          2.50  \n",
       "2          1.95  \n",
       "3          2.11  \n",
       "4          2.78  "
      ]
     },
     "execution_count": 95,
     "metadata": {},
     "output_type": "execute_result"
    }
   ],
   "source": [
    "# Train dataset head\n",
    "train.head()"
   ]
  },
  {
   "cell_type": "code",
   "execution_count": 96,
   "metadata": {},
   "outputs": [
    {
     "name": "stdout",
     "output_type": "stream",
     "text": [
      "<class 'pandas.core.frame.DataFrame'>\n",
      "RangeIndex: 8000 entries, 0 to 7999\n",
      "Data columns (total 4 columns):\n",
      " #   Column        Non-Null Count  Dtype  \n",
      "---  ------        --------------  -----  \n",
      " 0   id            8000 non-null   int64  \n",
      " 1   text          8000 non-null   object \n",
      " 2   is_humor      8000 non-null   int64  \n",
      " 3   humor_rating  8000 non-null   float64\n",
      "dtypes: float64(1), int64(2), object(1)\n",
      "memory usage: 250.1+ KB\n"
     ]
    }
   ],
   "source": [
    "# Train dataset information\n",
    "train.info()"
   ]
  },
  {
   "cell_type": "markdown",
   "metadata": {},
   "source": [
    "As we can see, our train dataset has 4 relevant fields (for this project):\n",
    "- **id**\n",
    "- **text**\n",
    "- **is_humor**\n",
    "- **humor_rating**."
   ]
  },
  {
   "cell_type": "code",
   "execution_count": 97,
   "metadata": {},
   "outputs": [
    {
     "data": {
      "text/html": [
       "<div>\n",
       "<style scoped>\n",
       "    .dataframe tbody tr th:only-of-type {\n",
       "        vertical-align: middle;\n",
       "    }\n",
       "\n",
       "    .dataframe tbody tr th {\n",
       "        vertical-align: top;\n",
       "    }\n",
       "\n",
       "    .dataframe thead th {\n",
       "        text-align: right;\n",
       "    }\n",
       "</style>\n",
       "<table border=\"1\" class=\"dataframe\">\n",
       "  <thead>\n",
       "    <tr style=\"text-align: right;\">\n",
       "      <th></th>\n",
       "      <th>id</th>\n",
       "      <th>is_humor</th>\n",
       "      <th>humor_rating</th>\n",
       "    </tr>\n",
       "  </thead>\n",
       "  <tbody>\n",
       "    <tr>\n",
       "      <th>count</th>\n",
       "      <td>8000.00000</td>\n",
       "      <td>8000.000000</td>\n",
       "      <td>8000.000000</td>\n",
       "    </tr>\n",
       "    <tr>\n",
       "      <th>mean</th>\n",
       "      <td>4000.50000</td>\n",
       "      <td>0.616500</td>\n",
       "      <td>1.393614</td>\n",
       "    </tr>\n",
       "    <tr>\n",
       "      <th>std</th>\n",
       "      <td>2309.54541</td>\n",
       "      <td>0.486269</td>\n",
       "      <td>1.185941</td>\n",
       "    </tr>\n",
       "    <tr>\n",
       "      <th>min</th>\n",
       "      <td>1.00000</td>\n",
       "      <td>0.000000</td>\n",
       "      <td>0.000000</td>\n",
       "    </tr>\n",
       "    <tr>\n",
       "      <th>25%</th>\n",
       "      <td>2000.75000</td>\n",
       "      <td>0.000000</td>\n",
       "      <td>0.000000</td>\n",
       "    </tr>\n",
       "    <tr>\n",
       "      <th>50%</th>\n",
       "      <td>4000.50000</td>\n",
       "      <td>1.000000</td>\n",
       "      <td>1.760000</td>\n",
       "    </tr>\n",
       "    <tr>\n",
       "      <th>75%</th>\n",
       "      <td>6000.25000</td>\n",
       "      <td>1.000000</td>\n",
       "      <td>2.420000</td>\n",
       "    </tr>\n",
       "    <tr>\n",
       "      <th>max</th>\n",
       "      <td>8000.00000</td>\n",
       "      <td>1.000000</td>\n",
       "      <td>4.000000</td>\n",
       "    </tr>\n",
       "  </tbody>\n",
       "</table>\n",
       "</div>"
      ],
      "text/plain": [
       "               id     is_humor  humor_rating\n",
       "count  8000.00000  8000.000000   8000.000000\n",
       "mean   4000.50000     0.616500      1.393614\n",
       "std    2309.54541     0.486269      1.185941\n",
       "min       1.00000     0.000000      0.000000\n",
       "25%    2000.75000     0.000000      0.000000\n",
       "50%    4000.50000     1.000000      1.760000\n",
       "75%    6000.25000     1.000000      2.420000\n",
       "max    8000.00000     1.000000      4.000000"
      ]
     },
     "execution_count": 97,
     "metadata": {},
     "output_type": "execute_result"
    }
   ],
   "source": [
    "# Train dataset statistics\n",
    "train.describe()"
   ]
  },
  {
   "cell_type": "markdown",
   "metadata": {},
   "source": [
    "This table shows that our train dataset has:\n",
    "- 8000 data lines;\n",
    "- Curiously, there is no text evaluated with more than 4 in humor_rating column;\n",
    "- The mean value of humor_rating is 2.26\n",
    "- 61.6% of the dataset is considered humoristic."
   ]
  },
  {
   "cell_type": "code",
   "execution_count": 98,
   "metadata": {},
   "outputs": [
    {
     "data": {
      "text/plain": [
       "<AxesSubplot:xlabel='is_humor', ylabel='count'>"
      ]
     },
     "execution_count": 98,
     "metadata": {},
     "output_type": "execute_result"
    },
    {
     "data": {
      "image/png": "[encoded data removed]",
      "text/plain": [
       "<Figure size 432x288 with 1 Axes>"
      ]
     },
     "metadata": {
      "needs_background": "light"
     },
     "output_type": "display_data"
    }
   ],
   "source": [
    "sb.countplot(x='is_humor', data=train)"
   ]
  },
  {
   "cell_type": "code",
   "execution_count": 99,
   "metadata": {},
   "outputs": [
    {
     "data": {
      "text/plain": [
       "<AxesSubplot:xlabel='humor_rating', ylabel='count'>"
      ]
     },
     "execution_count": 99,
     "metadata": {},
     "output_type": "execute_result"
    },
    {
     "data": {
      "image/png": "[encoded data removed]",
      "text/plain": [
       "<Figure size 432x288 with 1 Axes>"
      ]
     },
     "metadata": {
      "needs_background": "light"
     },
     "output_type": "display_data"
    }
   ],
   "source": [
    "sb.countplot(x='humor_rating', order=[1,2,3,4,5], data=train)"
   ]
  },
  {
   "cell_type": "code",
   "execution_count": 100,
   "metadata": {},
   "outputs": [
    {
     "data": {
      "text/plain": [
       "<seaborn.axisgrid.FacetGrid at 0x1e2d992b6a0>"
      ]
     },
     "execution_count": 100,
     "metadata": {},
     "output_type": "execute_result"
    },
    {
     "data": {
      "image/png": "[encoded data removed]",
      "text/plain": [
       "<Figure size 360x360 with 1 Axes>"
      ]
     },
     "metadata": {
      "needs_background": "light"
     },
     "output_type": "display_data"
    }
   ],
   "source": [
    "train_len = train['text'].apply(len)\n",
    "sb.displot(train_len)"
   ]
  },
  {
   "cell_type": "markdown",
   "metadata": {},
   "source": [
    "## Preprocessing the data\n",
    "\n",
    "[[ go back to the top ]](#Table-of-contents)\n",
    "\n",
    "Now, we will do some tasks needed before applying machine learning algorithms:\n",
    "1. Clean the 'text' column, by removing non-alphanumeric characters;\n",
    "2. Lowercase and tokenize it;\n",
    "3. Stem and remove all stopwords;\n",
    "4. Create bag-of-words model.\n",
    "\n",
    "For that, we will present 3 stemming techniques and lemmatization."
   ]
  },
  {
   "cell_type": "markdown",
   "metadata": {},
   "source": [
    "### Porter Stemming\n",
    "\n",
    "This preprocessing technique is known as one of the simplest and fastest, commonly used in Information Retrieval systems research, where the experiments need to be exactly repeatable."
   ]
  },
  {
   "cell_type": "code",
   "execution_count": 101,
   "metadata": {},
   "outputs": [],
   "source": [
    "def porterStemming(dataset):\n",
    "    corpus = []\n",
    "    ps = PorterStemmer()\n",
    "\n",
    "    for i in range(0, dataset.shape[0]):\n",
    "        text = re.sub('[^a-zA-Z]', ' ', dataset['text'][i])\n",
    "        text = text.lower().split()\n",
    "        text = ' '.join([ps.stem(w) for w in text if not w in set(stopwords.words('english'))])\n",
    "        corpus.append(text)\n",
    "    \n",
    "    return corpus"
   ]
  },
  {
   "cell_type": "markdown",
   "metadata": {},
   "source": [
    "### Snowball Stemming\n",
    "\n",
    "This technique can support other languages, that's why it's called a multi-lingual stemmer. This stemmer is based on a programming language called ‘Snowball’ that processes small strings and is the most widely used stemmer. The Snowball stemmer is way more aggressive than Porter Stemmer and is also referred to as Porter2 Stemmer. Because of the improvements added when compared to the Porter Stemmer, the Snowball stemmer is having greater computational speed. "
   ]
  },
  {
   "cell_type": "code",
   "execution_count": 102,
   "metadata": {},
   "outputs": [],
   "source": [
    "def snowballStemming(dataset):\n",
    "    corpus = []\n",
    "    ss = SnowballStemmer(language='english')\n",
    "\n",
    "    for i in range(0, dataset.shape[0]):\n",
    "        text = re.sub('[^a-zA-Z]', ' ', dataset['text'][i])\n",
    "        text = text.lower().split()\n",
    "        text = ' '.join([ss.stem(w) for w in text if not w in set(stopwords.words('english'))])\n",
    "        corpus.append(text)\n",
    "\n",
    "    return corpus"
   ]
  },
  {
   "cell_type": "markdown",
   "metadata": {},
   "source": [
    "### Lancaster Stemming\n",
    "\n",
    "The Lancaster stemmers are more aggressive and dynamic compared to the other two stemmers. The stemmer is really faster, but the algorithm is really confusing when dealing with small words. But they are not as efficient as Snowball Stemmers. The Lancaster stemmers save the rules externally and basically uses an iterative algorithm. "
   ]
  },
  {
   "cell_type": "code",
   "execution_count": 103,
   "metadata": {},
   "outputs": [],
   "source": [
    "def lancasterStemming(dataset):\n",
    "    corpus = []\n",
    "    ls = LancasterStemmer()\n",
    "\n",
    "    for i in range(0, dataset.shape[0]):\n",
    "        text = re.sub('[^a-zA-Z]', ' ', dataset['text'][i])\n",
    "        text = text.lower().split()\n",
    "        text = ' '.join([ls.stem(w) for w in text if not w in set(stopwords.words('english'))])\n",
    "        corpus.append(text)\n",
    "        \n",
    "    return corpus"
   ]
  },
  {
   "cell_type": "markdown",
   "metadata": {},
   "source": [
    "### Lemmatization\n",
    "\n",
    "> Lemmatization, unlike Stemming, reduces the inflected words properly ensuring that the root word belongs to the language. In Lemmatization root word is called Lemma. A lemma (plural lemmas or lemmata) is the canonical form, dictionary form, or citation form of a set of words."
   ]
  },
  {
   "cell_type": "code",
   "execution_count": 104,
   "metadata": {},
   "outputs": [],
   "source": [
    "def lemmatization(dataset):\n",
    "    corpus = []\n",
    "    wnl = WordNetLemmatizer()\n",
    "\n",
    "    for i in range(0, dataset.shape[0]):\n",
    "        text = re.sub('[^a-zA-Z]', ' ', dataset['text'][i])\n",
    "        text = text.lower().split()\n",
    "        text = ' '.join([wnl.lemmatize(w) for w in text if not w in set(stopwords.words('english'))])\n",
    "\n",
    "        corpus.append(text)\n",
    "\n",
    "    return corpus"
   ]
  },
  {
   "cell_type": "markdown",
   "metadata": {},
   "source": [
    "### Stemming or Lemmatization?\n",
    "\n",
    "One thing to note about lemmatization is that it is harder to create a lemmatizer in a new language than if it is a stemming algorithm because we require a lot more knowledge about structure of a language in lemmatizers.\n",
    "\n",
    "Stemming and Lemmatization both generate the foundation sort of the inflected words and therefore the only difference is that stem may not be an actual word whereas, lemma is an actual language word.\n",
    "\n",
    "Stemming follows an algorithm with steps to perform on the words which makes it faster. Whereas, in lemmatization, you used a corpus also to supply lemma which makes it slower than stemming. you furthermore might had to define a parts-of-speech to get the proper lemma.\n",
    "\n",
    "This means that:\n",
    "- **If speed is key, then stemming should be used**, since lemmatizers scan a corpus which consumes time and processing;\n",
    "- **If you have time and want even better results, then lemmatizing should be used**."
   ]
  },
  {
   "cell_type": "code",
   "execution_count": 105,
   "metadata": {},
   "outputs": [],
   "source": [
    "def dataSplit(X,y):\n",
    "    X_train, X_test, y_train, y_test = train_test_split(X, y, test_size = 0.20, random_state = 0)\n",
    "    return X_train, X_test, y_train, y_test"
   ]
  },
  {
   "cell_type": "markdown",
   "metadata": {},
   "source": [
    "### Bag of words Model"
   ]
  },
  {
   "cell_type": "code",
   "execution_count": 106,
   "metadata": {},
   "outputs": [],
   "source": [
    "def bagOfWords(corpus, dataset):\n",
    "    vectorizer = CountVectorizer(max_features = 1500)\n",
    "    x = vectorizer.fit_transform(corpus).toarray()\n",
    "    y = dataset.iloc[:,-1].values\n",
    "    return x, y"
   ]
  },
  {
   "cell_type": "markdown",
   "metadata": {},
   "source": [
    "## Applying machine learning algorithms\n",
    "\n",
    "[[ go back to the top ]](#Table-of-contents)\n",
    "\n",
    "We implemented these 3 machine learning algorithms:\n",
    "- **Naïve Bayes**: Gaussian\n",
    "- **Decision Trees**: Classifier\n",
    "- **SVM**\n"
   ]
  },
  {
   "cell_type": "code",
   "execution_count": 107,
   "metadata": {},
   "outputs": [],
   "source": [
    "def naiveBayes(X_train, y_train, X_test):\n",
    "    classifier = GaussianNB()\n",
    "    model = classifier.fit(X_train, y_train)\n",
    "\n",
    "    y_pred = classifier.predict(X_test)\n",
    "    return y_pred"
   ]
  },
  {
   "cell_type": "code",
   "execution_count": 108,
   "metadata": {},
   "outputs": [],
   "source": [
    "def SVM(X_train, y_train, X_test):\n",
    "    classifier = SVC()\n",
    "    classifier.fit(X_train, y_train)\n",
    "    \n",
    "    y_pred = classifier.predict(X_test)\n",
    "    return y_pred"
   ]
  },
  {
   "cell_type": "code",
   "execution_count": 109,
   "metadata": {},
   "outputs": [],
   "source": [
    "def decisionTree(X_train, y_train, X_test): \n",
    "    classifier = DecisionTreeClassifier()\n",
    "    classifier.fit(X_train, y_train)\n",
    "    \n",
    "    y_pred = classifier.predict(X_test)\n",
    "    return y_pred"
   ]
  },
  {
   "cell_type": "code",
   "execution_count": 110,
   "metadata": {},
   "outputs": [],
   "source": [
    "def SVMRegression(X_train, y_train, X_test):\n",
    "    regr = SVR()\n",
    "    regr.fit(X_train, y_train)\n",
    "    \n",
    "    y_pred = regr.predict(X_test)\n",
    "    return y_pred"
   ]
  },
  {
   "cell_type": "markdown",
   "metadata": {},
   "source": [
    "## Performance Measures\n",
    "\n",
    "### For Classification Algorithms:"
   ]
  },
  {
   "cell_type": "code",
   "execution_count": 111,
   "metadata": {},
   "outputs": [],
   "source": [
    "def performanceClassification(y_test, y_pred):\n",
    "    sb.heatmap(confusion_matrix(y_test, y_pred), annot=True)\n",
    "    print('Accuracy: ', accuracy_score(y_test, y_pred))\n",
    "    print('Precision: ', precision_score(y_test, y_pred, pos_label='neg', average='micro'))\n",
    "    print('Recall: ', recall_score(y_test, y_pred, pos_label='neg', average='micro'))\n",
    "    print('F1: ', f1_score(y_test, y_pred, pos_label='neg', average='micro'))"
   ]
  },
  {
   "cell_type": "markdown",
   "metadata": {},
   "source": [
    "### For Regression Algorithms:"
   ]
  },
  {
   "cell_type": "code",
   "execution_count": 112,
   "metadata": {},
   "outputs": [],
   "source": [
    "def performanceRegression(y_test, y_pred):\n",
    "    mse = mean_squared_error(y_test, y_pred)\n",
    "    rmse = np.sqrt(mse)\n",
    "    print('Root mean squared error: ', rmse)"
   ]
  },
  {
   "cell_type": "markdown",
   "metadata": {},
   "source": [
    "## Running the algorithms\n",
    "\n",
    "[[ go back to the top ]](#Table-of-contents)"
   ]
  },
  {
   "cell_type": "markdown",
   "metadata": {},
   "source": [
    "### Solving \"is_humor\"\n",
    "\n",
    "#### Naïve Bayes with Porter Stemmer "
   ]
  },
  {
   "cell_type": "code",
   "execution_count": 37,
   "metadata": {},
   "outputs": [
    {
     "name": "stdout",
     "output_type": "stream",
     "text": [
      "Accuracy:  0.729375\n",
      "Precision:  0.9020172910662824\n",
      "Recall:  0.6316851664984864\n",
      "F1:  0.7430267062314541\n",
      "Time: 76.36 seconds\n"
     ]
    },
    {
     "data": {
      "image/png": "[encoded data removed]",
      "text/plain": [
       "<Figure size 432x288 with 2 Axes>"
      ]
     },
     "metadata": {
      "needs_background": "light"
     },
     "output_type": "display_data"
    }
   ],
   "source": [
    "start = time.time()\n",
    "corpus_train = porterStemming(trainC)\n",
    "train_x, train_y = bagOfWords(corpus_train, trainC)\n",
    "X_train, X_test, y_train, y_test = dataSplit(train_x, train_y)\n",
    "y_pred = naiveBayes(X_train, y_train, X_test)\n",
    "performance(y_test, y_pred)\n",
    "print(\"Time: %.2f seconds\" % (time.time() - start))"
   ]
  },
  {
   "cell_type": "markdown",
   "metadata": {},
   "source": [
    "#### Naïve Bayes with Snowball Stemmer"
   ]
  },
  {
   "cell_type": "code",
   "execution_count": 21,
   "metadata": {},
   "outputs": [
    {
     "name": "stdout",
     "output_type": "stream",
     "text": [
      "Accuracy:  0.725625\n",
      "Precision:  0.9011627906976745\n",
      "Recall:  0.6256306760847629\n",
      "F1:  0.7385348421679573\n",
      "Time: 53.67 seconds\n"
     ]
    },
    {
     "data": {
      "image/png": "[encoded data removed]",
      "text/plain": [
       "<Figure size 432x288 with 2 Axes>"
      ]
     },
     "metadata": {
      "needs_background": "light"
     },
     "output_type": "display_data"
    }
   ],
   "source": [
    "start = time.time()\n",
    "corpus_train = snowballStemming(trainC)\n",
    "train_x, train_y = bagOfWords(corpus_train, trainC)\n",
    "X_train, X_test, y_train, y_test = dataSplit(train_x, train_y)\n",
    "y_pred = naiveBayes(X_train, y_train, X_test)\n",
    "performance(y_test, y_pred)\n",
    "print(\"Time: %.2f seconds\" % (time.time() - start))"
   ]
  },
  {
   "cell_type": "markdown",
   "metadata": {},
   "source": [
    "#### Naïve Bayes with Lancaster Stemmer"
   ]
  },
  {
   "cell_type": "code",
   "execution_count": 22,
   "metadata": {},
   "outputs": [
    {
     "name": "stdout",
     "output_type": "stream",
     "text": [
      "Accuracy:  0.720625\n",
      "Precision:  0.8930635838150289\n",
      "Recall:  0.6236125126135217\n",
      "F1:  0.7344028520499108\n",
      "Time: 53.79 seconds\n"
     ]
    },
    {
     "data": {
      "image/png": "[encoded data removed]",
      "text/plain": [
       "<Figure size 432x288 with 2 Axes>"
      ]
     },
     "metadata": {
      "needs_background": "light"
     },
     "output_type": "display_data"
    }
   ],
   "source": [
    "start = time.time()\n",
    "corpus_train = lancasterStemming(trainC)\n",
    "train_x, train_y = bagOfWords(corpus_train, trainC)\n",
    "X_train, X_test, y_train, y_test = dataSplit(train_x, train_y)\n",
    "y_pred = naiveBayes(X_train, y_train, X_test)\n",
    "performance(y_test, y_pred)\n",
    "print(\"Time: %.2f seconds\" % (time.time() - start))"
   ]
  },
  {
   "cell_type": "markdown",
   "metadata": {},
   "source": [
    "#### Naïve Bayes with Lemmatization"
   ]
  },
  {
   "cell_type": "code",
   "execution_count": 25,
   "metadata": {},
   "outputs": [
    {
     "name": "stdout",
     "output_type": "stream",
     "text": [
      "Accuracy:  0.74875\n",
      "Precision:  0.9039780521262003\n",
      "Recall:  0.6649848637739657\n",
      "F1:  0.766279069767442\n",
      "Time: 52.45 seconds\n"
     ]
    },
    {
     "data": {
      "image/png": "[encoded data removed]",
      "text/plain": [
       "<Figure size 432x288 with 2 Axes>"
      ]
     },
     "metadata": {
      "needs_background": "light"
     },
     "output_type": "display_data"
    }
   ],
   "source": [
    "start = time.time()\n",
    "corpus_train = lemmatization(trainC)\n",
    "train_x, train_y = bagOfWords(corpus_train, trainC)\n",
    "X_train, X_test, y_train, y_test = dataSplit(train_x, train_y)\n",
    "y_pred = naiveBayes(X_train, y_train, X_test)\n",
    "performance(y_test, y_pred)\n",
    "print(\"Time: %.2f seconds\" % (time.time() - start))"
   ]
  },
  {
   "cell_type": "markdown",
   "metadata": {},
   "source": [
    "#### SVM with Porter Stemmer"
   ]
  },
  {
   "cell_type": "code",
   "execution_count": 21,
   "metadata": {},
   "outputs": [
    {
     "name": "stdout",
     "output_type": "stream",
     "text": [
      "Accuracy:  0.820625\n",
      "Precision:  0.8346007604562737\n",
      "Recall:  0.8859737638748738\n",
      "F1:  0.8595203132648067\n",
      "Time: 102.40 seconds\n"
     ]
    },
    {
     "data": {
      "image/png": "[encoded data removed]",
      "text/plain": [
       "<Figure size 432x288 with 2 Axes>"
      ]
     },
     "metadata": {
      "needs_background": "light"
     },
     "output_type": "display_data"
    }
   ],
   "source": [
    "start = time.time()\n",
    "corpus_train = porterStemming(trainC)\n",
    "train_x, train_y = bagOfWords(corpus_train, trainC)\n",
    "X_train, X_test, y_train, y_test = dataSplit(train_x, train_y)\n",
    "y_pred = SVM(X_train, y_train, X_test)\n",
    "performance(y_test, y_pred)\n",
    "print(\"Time: %.2f seconds\" % (time.time() - start))"
   ]
  },
  {
   "cell_type": "markdown",
   "metadata": {},
   "source": [
    "#### SVM with Snowball Stemmer"
   ]
  },
  {
   "cell_type": "code",
   "execution_count": 26,
   "metadata": {},
   "outputs": [
    {
     "name": "stdout",
     "output_type": "stream",
     "text": [
      "Accuracy:  0.81625\n",
      "Precision:  0.8315889628924833\n",
      "Recall:  0.8819374369323916\n",
      "F1:  0.8560235063663076\n",
      "Time: 149.23 seconds\n"
     ]
    },
    {
     "data": {
      "image/png": "[encoded data removed]",
      "text/plain": [
       "<Figure size 432x288 with 2 Axes>"
      ]
     },
     "metadata": {
      "needs_background": "light"
     },
     "output_type": "display_data"
    }
   ],
   "source": [
    "start = time.time()\n",
    "corpus_train = snowballStemming(trainC)\n",
    "train_x, train_y = bagOfWords(corpus_train, trainC)\n",
    "X_train, X_test, y_train, y_test = dataSplit(train_x, train_y)\n",
    "y_pred = SVM(X_train, y_train, X_test)\n",
    "performance(y_test, y_pred)\n",
    "print(\"Time: %.2f seconds\" % (time.time() - start))"
   ]
  },
  {
   "cell_type": "markdown",
   "metadata": {},
   "source": [
    "#### SVM with Lancaster Stemmer"
   ]
  },
  {
   "cell_type": "code",
   "execution_count": 27,
   "metadata": {},
   "outputs": [
    {
     "name": "stdout",
     "output_type": "stream",
     "text": [
      "Accuracy:  0.82\n",
      "Precision:  0.8350810295519543\n",
      "Recall:  0.8839556004036327\n",
      "F1:  0.8588235294117647\n",
      "Time: 171.04 seconds\n"
     ]
    },
    {
     "data": {
      "image/png": "[encoded data removed]",
      "text/plain": [
       "<Figure size 432x288 with 2 Axes>"
      ]
     },
     "metadata": {
      "needs_background": "light"
     },
     "output_type": "display_data"
    }
   ],
   "source": [
    "start = time.time()\n",
    "corpus_train = lancasterStemming(trainC)\n",
    "train_x, train_y = bagOfWords(corpus_train, trainC)\n",
    "X_train, X_test, y_train, y_test = dataSplit(train_x, train_y)\n",
    "y_pred = SVM(X_train, y_train, X_test)\n",
    "performance(y_test, y_pred)\n",
    "print(\"Time: %.2f seconds\" % (time.time() - start))"
   ]
  },
  {
   "cell_type": "markdown",
   "metadata": {},
   "source": [
    "#### SVM with Lemmatization"
   ]
  },
  {
   "cell_type": "code",
   "execution_count": 28,
   "metadata": {},
   "outputs": [
    {
     "name": "stdout",
     "output_type": "stream",
     "text": [
      "Accuracy:  0.813125\n",
      "Precision:  0.8203703703703704\n",
      "Recall:  0.8940464177598385\n",
      "F1:  0.8556253017865765\n",
      "Time: 168.53 seconds\n"
     ]
    },
    {
     "data": {
      "image/png": "[encoded data removed]",
      "text/plain": [
       "<Figure size 432x288 with 2 Axes>"
      ]
     },
     "metadata": {
      "needs_background": "light"
     },
     "output_type": "display_data"
    }
   ],
   "source": [
    "start = time.time()\n",
    "corpus_train = lemmatization(trainC)\n",
    "train_x, train_y = bagOfWords(corpus_train, trainC)\n",
    "X_train, X_test, y_train, y_test = dataSplit(train_x, train_y)\n",
    "y_pred = SVM(X_train, y_train, X_test)\n",
    "performance(y_test, y_pred)\n",
    "print(\"Time: %.2f seconds\" % (time.time() - start))"
   ]
  },
  {
   "cell_type": "markdown",
   "metadata": {},
   "source": [
    "#### Decision Tree with Porter Stemmer"
   ]
  },
  {
   "cell_type": "code",
   "execution_count": null,
   "metadata": {},
   "outputs": [],
   "source": [
    "start = time.time()\n",
    "corpus_train = porterStemming(trainC)\n",
    "train_x, train_y = bagOfWords(corpus_train, trainC)\n",
    "X_train, X_test, y_train, y_test = dataSplit(train_x, train_y)\n",
    "y_pred = decisionTree(X_train, y_train, X_test)\n",
    "performance(y_test, y_pred)\n",
    "print(\"Time: %.2f seconds\" % (time.time() - start))"
   ]
  },
  {
   "cell_type": "markdown",
   "metadata": {},
   "source": [
    "#### Decision Tree with Snowball Stemmer"
   ]
  },
  {
   "cell_type": "code",
   "execution_count": 30,
   "metadata": {},
   "outputs": [
    {
     "name": "stdout",
     "output_type": "stream",
     "text": [
      "Accuracy:  0.715625\n",
      "Precision:  0.7977777777777778\n",
      "Recall:  0.7245206861755802\n",
      "F1:  0.7593865679534636\n",
      "Time: 72.51 seconds\n"
     ]
    },
    {
     "data": {
      "image/png": "[encoded data removed]",
      "text/plain": [
       "<Figure size 432x288 with 2 Axes>"
      ]
     },
     "metadata": {
      "needs_background": "light"
     },
     "output_type": "display_data"
    }
   ],
   "source": [
    "start = time.time()\n",
    "corpus_train = snowballStemming(trainC)\n",
    "train_x, train_y = bagOfWords(corpus_train, trainC)\n",
    "X_train, X_test, y_train, y_test = dataSplit(train_x, train_y)\n",
    "y_pred = decisionTree(X_train, y_train, X_test)\n",
    "performance(y_test, y_pred)\n",
    "print(\"Time: %.2f seconds\" % (time.time() - start))"
   ]
  },
  {
   "cell_type": "markdown",
   "metadata": {},
   "source": [
    "#### Decision Tree with Lancaster Stemmer"
   ]
  },
  {
   "cell_type": "code",
   "execution_count": 31,
   "metadata": {},
   "outputs": [
    {
     "name": "stdout",
     "output_type": "stream",
     "text": [
      "Accuracy:  0.690625\n",
      "Precision:  0.7811791383219955\n",
      "Recall:  0.6952573158425832\n",
      "F1:  0.7357180993059264\n",
      "Time: 75.71 seconds\n"
     ]
    },
    {
     "data": {
      "image/png": "[encoded data removed]",
      "text/plain": [
       "<Figure size 432x288 with 2 Axes>"
      ]
     },
     "metadata": {
      "needs_background": "light"
     },
     "output_type": "display_data"
    }
   ],
   "source": [
    "start = time.time()\n",
    "corpus_train = lancasterStemming(trainC)\n",
    "train_x, train_y = bagOfWords(corpus_train, trainC)\n",
    "X_train, X_test, y_train, y_test = dataSplit(train_x, train_y)\n",
    "y_pred = decisionTree(X_train, y_train, X_test)\n",
    "performance(y_test, y_pred)\n",
    "print(\"Time: %.2f seconds\" % (time.time() - start))"
   ]
  },
  {
   "cell_type": "markdown",
   "metadata": {},
   "source": [
    "#### Decision Tree with Lemmatization"
   ]
  },
  {
   "cell_type": "code",
   "execution_count": 32,
   "metadata": {},
   "outputs": [
    {
     "name": "stdout",
     "output_type": "stream",
     "text": [
      "Accuracy:  0.713125\n",
      "Precision:  0.7910284463894968\n",
      "Recall:  0.7295660948536832\n",
      "F1:  0.7590551181102362\n",
      "Time: 72.78 seconds\n"
     ]
    },
    {
     "data": {
      "image/png": "[encoded data removed]",
      "text/plain": [
       "<Figure size 432x288 with 2 Axes>"
      ]
     },
     "metadata": {
      "needs_background": "light"
     },
     "output_type": "display_data"
    }
   ],
   "source": [
    "start = time.time()\n",
    "corpus_train = lemmatization(trainC)\n",
    "train_x, train_y = bagOfWords(corpus_train, trainC)\n",
    "X_train, X_test, y_train, y_test = dataSplit(train_x, train_y)\n",
    "y_pred = decisionTree(X_train, y_train, X_test)\n",
    "performance(y_test, y_pred)\n",
    "print(\"Time: %.2f seconds\" % (time.time() - start))"
   ]
  },
  {
   "cell_type": "markdown",
   "metadata": {},
   "source": [
    "### Solving \"humor_rating\"\n",
    "\n",
    "#### SVM with Porter Stemming"
   ]
  },
  {
   "cell_type": "code",
   "execution_count": 113,
   "metadata": {},
   "outputs": [
    {
     "name": "stdout",
     "output_type": "stream",
     "text": [
      "Root mean squared error:  0.910262590823677\n",
      "Time: 264.12 seconds\n"
     ]
    }
   ],
   "source": [
    "start = time.time()\n",
    "corpus_train = porterStemming(trainR)\n",
    "train_x, train_y = bagOfWords(corpus_train, trainR)\n",
    "X_train, X_test, y_train, y_test = dataSplit(train_x, train_y)\n",
    "y_pred = SVMRegression(X_train, y_train, X_test)\n",
    "performanceRegression(y_test, y_pred)\n",
    "print(\"Time: %.2f seconds\" % (time.time() - start))"
   ]
  },
  {
   "cell_type": "markdown",
   "metadata": {},
   "source": [
    "#### SVM with Snowball Stemming"
   ]
  },
  {
   "cell_type": "code",
   "execution_count": null,
   "metadata": {},
   "outputs": [],
   "source": [
    "start = time.time()\n",
    "corpus_train = snowballStemming(trainR)\n",
    "train_x, train_y = bagOfWords(corpus_train, trainR)\n",
    "X_train, X_test, y_train, y_test = dataSplit(train_x, train_y)\n",
    "y_pred = SVMRegression(X_train, y_train, X_test)\n",
    "performanceRegression(y_test, y_pred)\n",
    "print(\"Time: %.2f seconds\" % (time.time() - start))"
   ]
  },
  {
   "cell_type": "markdown",
   "metadata": {},
   "source": [
    "#### SVM with Lancaster Stemming"
   ]
  },
  {
   "cell_type": "code",
   "execution_count": null,
   "metadata": {},
   "outputs": [],
   "source": [
    "start = time.time()\n",
    "corpus_train = lancasterStemming(trainR)\n",
    "train_x, train_y = bagOfWords(corpus_train, trainR)\n",
    "X_train, X_test, y_train, y_test = dataSplit(train_x, train_y)\n",
    "y_pred = SVMRegression(X_train, y_train, X_test)\n",
    "performanceRegression(y_test, y_pred)\n",
    "print(\"Time: %.2f seconds\" % (time.time() - start))"
   ]
  },
  {
   "cell_type": "markdown",
   "metadata": {},
   "source": [
    "#### SVM with Lemmatization"
   ]
  },
  {
   "cell_type": "code",
   "execution_count": null,
   "metadata": {},
   "outputs": [],
   "source": [
    "start = time.time()\n",
    "corpus_train = lemmatization(trainR)\n",
    "train_x, train_y = bagOfWords(corpus_train, trainR)\n",
    "X_train, X_test, y_train, y_test = dataSplit(train_x, train_y)\n",
    "y_pred = SVMRegression(X_train, y_train, X_test)\n",
    "performanceRegression(y_test, y_pred)\n",
    "print(\"Time: %.2f seconds\" % (time.time() - start))"
   ]
  },
  {
   "cell_type": "markdown",
   "metadata": {},
   "source": [
    "## Conclusions\n",
    "\n",
    "[[ go back to the top ]](#Table-of-contents)\n",
    "\n",
    "### Accuracy\n",
    "\n",
    "|   | Porter Stemming | Snowball Stemming | Lancaster Stemming | Lemmatization |\n",
    "|---|:----:|:----:|:----:|:----:|\n",
    "| **Naïve Bayes** | 0.729375 | 0.725625  | 0.720625  | 0.74875  |\n",
    "| **SVM** | 0.820625  | 0.81625  | 0.82   | 0.813125  |\n",
    "| **Decision Tree** |  0.71875 | 0.715625  | 0.690625  | 0.713125  |\n",
    "\n",
    "### Precision\n",
    "|   | Porter Stemming | Snowball Stemming | Lancaster Stemming | Lemmatization |\n",
    "|---|:----:|:----:|:----:|:----:|\n",
    "| **Naïve Bayes** | 0.9020172910662824  | 0.9011627906976745  | 0.8930635838150289  | 0.9039780521262003  |\n",
    "| **SVM** | 0.8346007604562737 | 0.8315889628924833 | 0.8350810295519543  | 0.8203703703703704  |\n",
    "| **Decision Tree** | 0.7982359426681367  | 0.7977777777777778  | 0.7811791383219955  | 0.7910284463894968  |\n",
    "\n",
    "### Recall\n",
    "|   | Porter Stemming | Snowball Stemming | Lancaster Stemming | Lemmatization |\n",
    "|---|:----:|:----:|:----:|:----:|\n",
    "| **Naïve Bayes** | 0.6316851664984864  | 0.6256306760847629  |  0.6236125126135217 | 0.6649848637739657  |\n",
    "| **SVM** | 0.8859737638748738 | 0.8819374369323916 |  0.8839556004036327 | 0.8940464177598385  |\n",
    "| **Decision Tree** | 0.7305751765893037  |  0.7245206861755802 | 0.6952573158425832  |  0.7295660948536832 |\n",
    "\n",
    "### F1\n",
    "|   | Porter Stemming | Snowball Stemming | Lancaster Stemming | Lemmatization |\n",
    "|---|:----:|:----:|:----:|:----:|\n",
    "| **Naïve Bayes** | 0.7430267062314541 |  0.7385348421679573 |  0.7344028520499108 | 0.766279069767442  |\n",
    "| **SVM** | 0.8595203132648067 | 0.8560235063663076 | 0.8588235294117647  | 0.8556253017865765  |\n",
    "| **Decision Tree** |  0.7629083245521602 | 0.7593865679534636  | 0.7357180993059264  |  0.7590551181102362 |\n",
    "\n",
    "### Time\n",
    "| **in seconds**  | Porter Stemming | Snowball Stemming | Lancaster Stemming | Lemmatization |\n",
    "|---|:----:|:----:|:----:|:----:|\n",
    "| **Naïve Bayes** | 51.89   | 53.67   | 53.79   |  52.45  |\n",
    "| **SVM** | 156.88  | 149.23  | 171.04   | 168.53   |\n",
    "| **Decision Tree** | 74.84   |  72.51  | 75.71   | 72.78   |\n"
   ]
  },
  {
   "cell_type": "markdown",
   "metadata": {},
   "source": [
    "## References\n",
    "\n",
    "[[ go back to the top ]](#Table-of-contents)\n",
    "\n",
    "- https://competitions.codalab.org/competitions/27446\n",
    "- https://en.wikipedia.org/wiki/Natural_language_processing\n",
    "- https://moodle.up.pt/pluginfile.php/213489/mod_resource/content/1/IART_Lecture7_NaturalLanguageProcessing_2020_21.pdf\n",
    "- https://moodle.up.pt/pluginfile.php/211544/mod_resource/content/0/IART_Lecture5a_Intro_MachineLearning.pdf\n",
    "- https://moodle.up.pt/pluginfile.php/213487/mod_resource/content/0/IART_Lecture5d_MachineLearning_Classification.pdf"
   ]
  }
 ],
 "metadata": {
  "kernelspec": {
   "display_name": "Python 3",
   "language": "python",
   "name": "python3"
  },
  "language_info": {
   "codemirror_mode": {
    "name": "ipython",
    "version": 3
   },
   "file_extension": ".py",
   "mimetype": "text/x-python",
   "name": "python",
   "nbconvert_exporter": "python",
   "pygments_lexer": "ipython3",
   "version": "3.8.5"
  }
 },
 "nbformat": 4,
 "nbformat_minor": 4
}
